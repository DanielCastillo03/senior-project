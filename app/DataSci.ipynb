{
 "cells": [
  {
   "cell_type": "code",
   "execution_count": null,
   "id": "78b88220",
   "metadata": {},
   "outputs": [],
   "source": [
    "#join the owners duet session\n",
    "import syft as sy\n",
    "sy.VERBOSE = True\n",
    "duet = sy.join_duet(loopback=True)"
   ]
  },
  {
   "cell_type": "code",
   "execution_count": null,
   "id": "cf5997fe",
   "metadata": {},
   "outputs": [],
   "source": [
    "#check the items in the duet store\n",
    "duet.store.pandas"
   ]
  },
  {
   "cell_type": "code",
   "execution_count": null,
   "id": "5d9c4fa6",
   "metadata": {},
   "outputs": [],
   "source": [
    "#store the item in duet1_ptr\n",
    "data1_ptr = duet.store[1]\n",
    "print(data1_ptr)"
   ]
  },
  {
   "cell_type": "code",
   "execution_count": null,
   "id": "a98b734d",
   "metadata": {},
   "outputs": [],
   "source": [
    "import torch"
   ]
  },
  {
   "cell_type": "code",
   "execution_count": null,
   "id": "6458bc91",
   "metadata": {},
   "outputs": [],
   "source": [
    "#set the input and output dimensions\n",
    "in_dim = 1\n",
    "out_dim = 1"
   ]
  },
  {
   "cell_type": "code",
   "execution_count": null,
   "id": "08a308be",
   "metadata": {},
   "outputs": [],
   "source": [
    "class SyNet(sy.Module):\n",
    "    def __init__(self, torch_ref):\n",
    "        super(SyNet, self).__init__(torch_ref=torch_ref)\n",
    "        self.linear = self.torch_ref.nn.Linear(in_dim, out_dim)\n",
    "\n",
    "    def forward(self, x):\n",
    "        x = self.linear(x)\n",
    "        return x"
   ]
  },
  {
   "cell_type": "code",
   "execution_count": null,
   "id": "e07ff253",
   "metadata": {},
   "outputs": [],
   "source": [
    "combined_model = SyNet(torch)"
   ]
  },
  {
   "cell_type": "code",
   "execution_count": null,
   "id": "f2de81a5",
   "metadata": {},
   "outputs": [],
   "source": [
    "def train(iterations, model, torch_ref, optim, data_ptr, target_ptr):\n",
    "    \n",
    "    losses = []\n",
    "    \n",
    "    for i in range(iterations):\n",
    "        \n",
    "        optim.zero_grad()\n",
    "        \n",
    "        output = model(data_ptr)\n",
    "\n",
    "        loss = torch_ref.nn.functional.mse_loss(output, target_ptr)\n",
    "\n",
    "        loss_item = loss.item()\n",
    "        loss_value = loss_item.get(\n",
    "                name=\"loss\",\n",
    "                reason=\"To evaluate training progress\",\n",
    "                request_block=True,\n",
    "                timeout_secs=5\n",
    "            )\n",
    "        if i % 10 == 0:\n",
    "            print(\"Epoch\", i, \"loss\", loss_value)\n",
    "        losses.append(loss_value)\n",
    "        loss.backward()\n",
    "        optim.step()\n",
    "        \n",
    "    return losses"
   ]
  },
  {
   "cell_type": "code",
   "execution_count": null,
   "id": "381247b4",
   "metadata": {},
   "outputs": [],
   "source": [
    "import torch as th\n",
    "import numpy as np"
   ]
  },
  {
   "cell_type": "code",
   "execution_count": null,
   "id": "50d68ef7",
   "metadata": {},
   "outputs": [],
   "source": [
    "local_model1 = SyNet(torch)\n"
   ]
  },
  {
   "cell_type": "code",
   "execution_count": null,
   "id": "95424d65",
   "metadata": {},
   "outputs": [],
   "source": [
    "print(local_model1.parameters())\n"
   ]
  },
  {
   "cell_type": "code",
   "execution_count": null,
   "id": "0c1e6b76",
   "metadata": {},
   "outputs": [],
   "source": [
    "remote_model1 = local_model1.send(duet)\n"
   ]
  },
  {
   "cell_type": "code",
   "execution_count": null,
   "id": "33bf6358",
   "metadata": {},
   "outputs": [],
   "source": [
    "remote_torch1 = duet.torch\n",
    "params = remote_model1.parameters()\n",
    "optim1 = remote_torch1.optim.Adam(params=params, lr=0.1)"
   ]
  },
  {
   "cell_type": "code",
   "execution_count": null,
   "id": "11f4c245",
   "metadata": {},
   "outputs": [],
   "source": [
    "from skimage.transform import resize\n",
    "from skimage.color import rgb2gray\n",
    "#from tqdm import tqdm\n",
    "import matplotlib.pyplot as plt\n",
    "import numpy as np\n",
    "import torch\n",
    "import os\n",
    "import imageio\n",
    "#loop through the directory and transform to tensor\n",
    "path = \"/Users/danielcastillo/Documents/senior-project/Data/CATS_DOGS/train/CAT\"\n",
    "\n",
    "arr = []\n",
    "from tqdm.notebook import tqdm\n",
    "tqdm().pandas()\n",
    "i = 0\n",
    "\n",
    "\n",
    "for pic in tqdm(os.scandir(path)):\n",
    "    if i < 10:\n",
    "        if (pic.path.endswith(\".jpeg\") or pic.path.endswith(\".jpg\")) and pic.is_file():\n",
    "            picture = imageio.imread(pic.path)\n",
    "            picture = resize(picture, (1,1), mode='constant', anti_aliasing=True)\n",
    "            picture = rgb2gray(picture)\n",
    "            Tensor = torch.tensor(picture)\n",
    "            Tensor = Tensor.flatten()\n",
    "            arr.append(Tensor)\n",
    "    i+=1"
   ]
  },
  {
   "cell_type": "code",
   "execution_count": null,
   "id": "ee667c28",
   "metadata": {},
   "outputs": [],
   "source": [
    "target1_ptr = torch.stack(arr)\n",
    "target1_ptr = target1_ptr.type(torch.FloatTensor)"
   ]
  },
  {
   "cell_type": "code",
   "execution_count": null,
   "id": "7ea9fcec",
   "metadata": {
    "scrolled": true
   },
   "outputs": [],
   "source": [
    "iteration = 100\n",
    "losses = train(iteration, remote_model1, remote_torch1, optim1, data1_ptr, target1_ptr)"
   ]
  },
  {
   "cell_type": "code",
   "execution_count": null,
   "id": "12a9258a",
   "metadata": {},
   "outputs": [],
   "source": []
  },
  {
   "cell_type": "code",
   "execution_count": null,
   "id": "8a559ee8",
   "metadata": {},
   "outputs": [],
   "source": []
  }
 ],
 "metadata": {
  "kernelspec": {
   "display_name": "Python 3",
   "language": "python",
   "name": "python3"
  },
  "language_info": {
   "codemirror_mode": {
    "name": "ipython",
    "version": 3
   },
   "file_extension": ".py",
   "mimetype": "text/x-python",
   "name": "python",
   "nbconvert_exporter": "python",
   "pygments_lexer": "ipython3",
   "version": "3.8.8"
  }
 },
 "nbformat": 4,
 "nbformat_minor": 5
}
