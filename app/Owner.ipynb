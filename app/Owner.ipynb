{
 "cells": [
  {
   "cell_type": "code",
   "execution_count": null,
   "id": "10005744",
   "metadata": {},
   "outputs": [],
   "source": [
    "!pip install tensorflow"
   ]
  },
  {
   "cell_type": "code",
   "execution_count": null,
   "id": "likely-balance",
   "metadata": {},
   "outputs": [],
   "source": [
    "#import packages that allow for image tranformations and transform to Tensor\n",
    "from skimage.transform import resize\n",
    "from skimage.color import rgb2gray\n",
    "import matplotlib.pyplot as plt\n",
    "import torch\n",
    "import os\n",
    "import imageio\n"
   ]
  },
  {
   "cell_type": "code",
   "execution_count": null,
   "id": "significant-asbestos",
   "metadata": {},
   "outputs": [],
   "source": [
    "#loop through the directory and transform to tensor\n",
    "path = \"/Users/danielcastillo/Documents/senior-project/Data/CATS_DOGS/test/CAT\"\n",
    "\n",
    "#declare a new list\n",
    "arr = []\n",
    "#to clean up the appending process\n",
    "from tqdm.notebook import tqdm\n",
    "tqdm().pandas()\n",
    "i = 0\n",
    "\n",
    "for pic in tqdm(os.scandir(path)):\n",
    "    #control the number of images to transform\n",
    "    if i < 10:\n",
    "        if (pic.path.endswith(\".jpeg\") or pic.path.endswith(\".jpg\")) and pic.is_file():\n",
    "            #read the image\n",
    "            picture = imageio.imread(pic.path)\n",
    "            #resize the picture\n",
    "            picture = resize(picture, (1,1), mode='constant', anti_aliasing=True)\n",
    "            #change the picture to gray scale\n",
    "            picture = rgb2gray(picture)\n",
    "            #transform the picture to a tensor\n",
    "            Tensor = torch.tensor(picture)\n",
    "            Tensor = Tensor.flatten()\n",
    "            #append the tensor to the list\n",
    "            arr.append(Tensor)\n",
    "    i+=1"
   ]
  },
  {
   "cell_type": "code",
   "execution_count": null,
   "id": "polar-parish",
   "metadata": {},
   "outputs": [],
   "source": [
    "#Create a new duet session\n",
    "import syft as sy\n",
    "sy.VERBOSE = False\n",
    "duet = sy.duet(loopback = True)"
   ]
  },
  {
   "cell_type": "code",
   "execution_count": null,
   "id": "98e01f6f",
   "metadata": {},
   "outputs": [],
   "source": [
    "import tensorflow as tf\n",
    "#change the list of tensors into a single tensor\n",
    "stacked = torch.stack(arr)\n",
    "#print(stacked)\n",
    "#change the tensor data type from Float64 to Float32\n",
    "stacked = stacked.type(torch.FloatTensor)\n",
    "#print(stacked.dtype)\n",
    "#type(stacked)\n",
    "\n"
   ]
  },
  {
   "cell_type": "code",
   "execution_count": null,
   "id": "private-finance",
   "metadata": {},
   "outputs": [],
   "source": [
    "#assign a tag to the image\n",
    "image = stacked.tag(\"test2\")\n",
    "#assign a description\n",
    "image = stacked.describe(\"tensor data\")\n",
    "\n",
    "#send the pointer through duet\n",
    "image_ptr = image.send(duet, searchable=True)\n"
   ]
  },
  {
   "cell_type": "code",
   "execution_count": null,
   "id": "d9a6acc8",
   "metadata": {},
   "outputs": [],
   "source": [
    "print(stacked)\n",
    "print(stacked.shape)"
   ]
  },
  {
   "cell_type": "code",
   "execution_count": null,
   "id": "durable-bibliography",
   "metadata": {},
   "outputs": [],
   "source": [
    "#check all the pointers in the duet store\n",
    "duet.store.pandas"
   ]
  },
  {
   "cell_type": "code",
   "execution_count": null,
   "id": "superior-bridal",
   "metadata": {},
   "outputs": [],
   "source": [
    "#add a hadler to accept any request with the name \"loss\"\n",
    "duet.requests.add_handler(\n",
    "    name=\"loss\",\n",
    "    action=\"accept\",\n",
    "    timeout_secs=-1,  # no timeout\n",
    "    print_local=True  # print the result in your notebook\n",
    ")"
   ]
  },
  {
   "cell_type": "code",
   "execution_count": null,
   "id": "b210ee26",
   "metadata": {},
   "outputs": [],
   "source": [
    "#add a hadler to accept any request with the name \"params\"\n",
    "duet.requests.add_handler(\n",
    "    name=\"params\",\n",
    "    action=\"accept\",\n",
    "    timeout_secs=-1,  # no timeout\n",
    "    print_local=True  # print the result in your notebook\n",
    ")"
   ]
  },
  {
   "cell_type": "code",
   "execution_count": null,
   "id": "7ba4ddcf",
   "metadata": {},
   "outputs": [],
   "source": [
    "#add a hadler to accept any request with the name \"model_download\"\n",
    "duet.requests.add_handler(\n",
    "    name=\"model_download\",\n",
    "    action=\"accept\",\n",
    "    timeout_secs=-1,  # no timeout\n",
    "    print_local=True  # print the result in your notebook\n",
    ")"
   ]
  }
 ],
 "metadata": {
  "kernelspec": {
   "display_name": "Python 3",
   "language": "python",
   "name": "python3"
  },
  "language_info": {
   "codemirror_mode": {
    "name": "ipython",
    "version": 3
   },
   "file_extension": ".py",
   "mimetype": "text/x-python",
   "name": "python",
   "nbconvert_exporter": "python",
   "pygments_lexer": "ipython3",
   "version": "3.8.8"
  }
 },
 "nbformat": 4,
 "nbformat_minor": 5
}
